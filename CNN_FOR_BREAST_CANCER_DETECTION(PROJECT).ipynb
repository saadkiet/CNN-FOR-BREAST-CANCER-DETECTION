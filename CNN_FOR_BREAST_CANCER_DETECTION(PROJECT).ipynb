{
  "nbformat": 4,
  "nbformat_minor": 0,
  "metadata": {
    "colab": {
      "name": "TF2.1 CNN FOR BREAST CANCER DETECTION(PROJECT).ipynb",
      "provenance": [],
      "collapsed_sections": [],
      "toc_visible": true,
      "authorship_tag": "ABX9TyP+EeAjtF28crCk8xvhDoPr",
      "include_colab_link": true
    },
    "kernelspec": {
      "name": "python3",
      "display_name": "Python 3"
    }
  },
  "cells": [
    {
      "cell_type": "markdown",
      "metadata": {
        "id": "view-in-github",
        "colab_type": "text"
      },
      "source": [
        "<a href=\"https://colab.research.google.com/github/saadkiet/CNN-FOR-BREAST-CANCER-DETECTION/blob/master/CNN_FOR_BREAST_CANCER_DETECTION(PROJECT).ipynb\" target=\"_parent\"><img src=\"https://colab.research.google.com/assets/colab-badge.svg\" alt=\"Open In Colab\"/></a>"
      ]
    },
    {
      "cell_type": "markdown",
      "metadata": {
        "id": "SUu6K-DGQue-",
        "colab_type": "text"
      },
      "source": [
        "# Step 1 : Set up and Install"
      ]
    },
    {
      "cell_type": "code",
      "metadata": {
        "id": "YPTSDvUhAdPt",
        "colab_type": "code",
        "outputId": "db0f61ef-5aa7-444f-ba21-f82201a59ae1",
        "colab": {
          "base_uri": "https://localhost:8080/",
          "height": 1000
        }
      },
      "source": [
        "pip install tensorflow-gpu"
      ],
      "execution_count": 0,
      "outputs": [
        {
          "output_type": "stream",
          "text": [
            "Collecting tensorflow-gpu\n",
            "\u001b[?25l  Downloading https://files.pythonhosted.org/packages/0a/93/c7bca39b23aae45cd2e85ad3871c81eccc63b9c5276e926511e2e5b0879d/tensorflow_gpu-2.1.0-cp36-cp36m-manylinux2010_x86_64.whl (421.8MB)\n",
            "\u001b[K     |████████████████████████████████| 421.8MB 36kB/s \n",
            "\u001b[?25hRequirement already satisfied: wheel>=0.26; python_version >= \"3\" in /usr/local/lib/python3.6/dist-packages (from tensorflow-gpu) (0.34.2)\n",
            "Requirement already satisfied: termcolor>=1.1.0 in /usr/local/lib/python3.6/dist-packages (from tensorflow-gpu) (1.1.0)\n",
            "Requirement already satisfied: numpy<2.0,>=1.16.0 in /usr/local/lib/python3.6/dist-packages (from tensorflow-gpu) (1.18.3)\n",
            "Requirement already satisfied: keras-applications>=1.0.8 in /usr/local/lib/python3.6/dist-packages (from tensorflow-gpu) (1.0.8)\n",
            "Requirement already satisfied: absl-py>=0.7.0 in /usr/local/lib/python3.6/dist-packages (from tensorflow-gpu) (0.9.0)\n",
            "Requirement already satisfied: opt-einsum>=2.3.2 in /usr/local/lib/python3.6/dist-packages (from tensorflow-gpu) (3.2.1)\n",
            "Requirement already satisfied: grpcio>=1.8.6 in /usr/local/lib/python3.6/dist-packages (from tensorflow-gpu) (1.28.1)\n",
            "Requirement already satisfied: google-pasta>=0.1.6 in /usr/local/lib/python3.6/dist-packages (from tensorflow-gpu) (0.2.0)\n",
            "Requirement already satisfied: protobuf>=3.8.0 in /usr/local/lib/python3.6/dist-packages (from tensorflow-gpu) (3.10.0)\n",
            "Collecting tensorflow-estimator<2.2.0,>=2.1.0rc0\n",
            "\u001b[?25l  Downloading https://files.pythonhosted.org/packages/18/90/b77c328a1304437ab1310b463e533fa7689f4bfc41549593056d812fab8e/tensorflow_estimator-2.1.0-py2.py3-none-any.whl (448kB)\n",
            "\u001b[K     |████████████████████████████████| 450kB 41.5MB/s \n",
            "\u001b[?25hRequirement already satisfied: scipy==1.4.1; python_version >= \"3\" in /usr/local/lib/python3.6/dist-packages (from tensorflow-gpu) (1.4.1)\n",
            "Collecting tensorboard<2.2.0,>=2.1.0\n",
            "\u001b[?25l  Downloading https://files.pythonhosted.org/packages/d9/41/bbf49b61370e4f4d245d4c6051dfb6db80cec672605c91b1652ac8cc3d38/tensorboard-2.1.1-py3-none-any.whl (3.8MB)\n",
            "\u001b[K     |████████████████████████████████| 3.9MB 41.2MB/s \n",
            "\u001b[?25hRequirement already satisfied: wrapt>=1.11.1 in /usr/local/lib/python3.6/dist-packages (from tensorflow-gpu) (1.12.1)\n",
            "Requirement already satisfied: keras-preprocessing>=1.1.0 in /usr/local/lib/python3.6/dist-packages (from tensorflow-gpu) (1.1.0)\n",
            "Requirement already satisfied: six>=1.12.0 in /usr/local/lib/python3.6/dist-packages (from tensorflow-gpu) (1.12.0)\n",
            "Collecting gast==0.2.2\n",
            "  Downloading https://files.pythonhosted.org/packages/4e/35/11749bf99b2d4e3cceb4d55ca22590b0d7c2c62b9de38ac4a4a7f4687421/gast-0.2.2.tar.gz\n",
            "Requirement already satisfied: astor>=0.6.0 in /usr/local/lib/python3.6/dist-packages (from tensorflow-gpu) (0.8.1)\n",
            "Requirement already satisfied: h5py in /usr/local/lib/python3.6/dist-packages (from keras-applications>=1.0.8->tensorflow-gpu) (2.10.0)\n",
            "Requirement already satisfied: setuptools in /usr/local/lib/python3.6/dist-packages (from protobuf>=3.8.0->tensorflow-gpu) (46.1.3)\n",
            "Requirement already satisfied: markdown>=2.6.8 in /usr/local/lib/python3.6/dist-packages (from tensorboard<2.2.0,>=2.1.0->tensorflow-gpu) (3.2.1)\n",
            "Requirement already satisfied: google-auth<2,>=1.6.3 in /usr/local/lib/python3.6/dist-packages (from tensorboard<2.2.0,>=2.1.0->tensorflow-gpu) (1.7.2)\n",
            "Requirement already satisfied: requests<3,>=2.21.0 in /usr/local/lib/python3.6/dist-packages (from tensorboard<2.2.0,>=2.1.0->tensorflow-gpu) (2.23.0)\n",
            "Requirement already satisfied: google-auth-oauthlib<0.5,>=0.4.1 in /usr/local/lib/python3.6/dist-packages (from tensorboard<2.2.0,>=2.1.0->tensorflow-gpu) (0.4.1)\n",
            "Requirement already satisfied: werkzeug>=0.11.15 in /usr/local/lib/python3.6/dist-packages (from tensorboard<2.2.0,>=2.1.0->tensorflow-gpu) (1.0.1)\n",
            "Requirement already satisfied: rsa<4.1,>=3.1.4 in /usr/local/lib/python3.6/dist-packages (from google-auth<2,>=1.6.3->tensorboard<2.2.0,>=2.1.0->tensorflow-gpu) (4.0)\n",
            "Requirement already satisfied: cachetools<3.2,>=2.0.0 in /usr/local/lib/python3.6/dist-packages (from google-auth<2,>=1.6.3->tensorboard<2.2.0,>=2.1.0->tensorflow-gpu) (3.1.1)\n",
            "Requirement already satisfied: pyasn1-modules>=0.2.1 in /usr/local/lib/python3.6/dist-packages (from google-auth<2,>=1.6.3->tensorboard<2.2.0,>=2.1.0->tensorflow-gpu) (0.2.8)\n",
            "Requirement already satisfied: chardet<4,>=3.0.2 in /usr/local/lib/python3.6/dist-packages (from requests<3,>=2.21.0->tensorboard<2.2.0,>=2.1.0->tensorflow-gpu) (3.0.4)\n",
            "Requirement already satisfied: certifi>=2017.4.17 in /usr/local/lib/python3.6/dist-packages (from requests<3,>=2.21.0->tensorboard<2.2.0,>=2.1.0->tensorflow-gpu) (2020.4.5.1)\n",
            "Requirement already satisfied: urllib3!=1.25.0,!=1.25.1,<1.26,>=1.21.1 in /usr/local/lib/python3.6/dist-packages (from requests<3,>=2.21.0->tensorboard<2.2.0,>=2.1.0->tensorflow-gpu) (1.24.3)\n",
            "Requirement already satisfied: idna<3,>=2.5 in /usr/local/lib/python3.6/dist-packages (from requests<3,>=2.21.0->tensorboard<2.2.0,>=2.1.0->tensorflow-gpu) (2.9)\n",
            "Requirement already satisfied: requests-oauthlib>=0.7.0 in /usr/local/lib/python3.6/dist-packages (from google-auth-oauthlib<0.5,>=0.4.1->tensorboard<2.2.0,>=2.1.0->tensorflow-gpu) (1.3.0)\n",
            "Requirement already satisfied: pyasn1>=0.1.3 in /usr/local/lib/python3.6/dist-packages (from rsa<4.1,>=3.1.4->google-auth<2,>=1.6.3->tensorboard<2.2.0,>=2.1.0->tensorflow-gpu) (0.4.8)\n",
            "Requirement already satisfied: oauthlib>=3.0.0 in /usr/local/lib/python3.6/dist-packages (from requests-oauthlib>=0.7.0->google-auth-oauthlib<0.5,>=0.4.1->tensorboard<2.2.0,>=2.1.0->tensorflow-gpu) (3.1.0)\n",
            "Building wheels for collected packages: gast\n",
            "  Building wheel for gast (setup.py) ... \u001b[?25l\u001b[?25hdone\n",
            "  Created wheel for gast: filename=gast-0.2.2-cp36-none-any.whl size=7540 sha256=77bd731f5c7cab83ed65e434dadeb517ac6934c76da6719048a1140c9f82b84f\n",
            "  Stored in directory: /root/.cache/pip/wheels/5c/2e/7e/a1d4d4fcebe6c381f378ce7743a3ced3699feb89bcfbdadadd\n",
            "Successfully built gast\n",
            "\u001b[31mERROR: tensorflow 2.2.0rc3 has requirement gast==0.3.3, but you'll have gast 0.2.2 which is incompatible.\u001b[0m\n",
            "\u001b[31mERROR: tensorflow 2.2.0rc3 has requirement tensorboard<2.3.0,>=2.2.0, but you'll have tensorboard 2.1.1 which is incompatible.\u001b[0m\n",
            "\u001b[31mERROR: tensorflow 2.2.0rc3 has requirement tensorflow-estimator<2.3.0,>=2.2.0rc0, but you'll have tensorflow-estimator 2.1.0 which is incompatible.\u001b[0m\n",
            "\u001b[31mERROR: tensorflow-probability 0.10.0rc0 has requirement gast>=0.3.2, but you'll have gast 0.2.2 which is incompatible.\u001b[0m\n",
            "Installing collected packages: tensorflow-estimator, tensorboard, gast, tensorflow-gpu\n",
            "  Found existing installation: tensorflow-estimator 2.2.0\n",
            "    Uninstalling tensorflow-estimator-2.2.0:\n",
            "      Successfully uninstalled tensorflow-estimator-2.2.0\n",
            "  Found existing installation: tensorboard 2.2.1\n",
            "    Uninstalling tensorboard-2.2.1:\n",
            "      Successfully uninstalled tensorboard-2.2.1\n",
            "  Found existing installation: gast 0.3.3\n",
            "    Uninstalling gast-0.3.3:\n",
            "      Successfully uninstalled gast-0.3.3\n",
            "Successfully installed gast-0.2.2 tensorboard-2.1.1 tensorflow-estimator-2.1.0 tensorflow-gpu-2.1.0\n"
          ],
          "name": "stdout"
        }
      ]
    },
    {
      "cell_type": "code",
      "metadata": {
        "id": "JQC6R9tJAqFO",
        "colab_type": "code",
        "colab": {}
      },
      "source": [
        "import numpy as np\n",
        "import pandas as pd\n",
        "import matplotlib.pyplot as plt\n",
        "import tensorflow as tf\n"
      ],
      "execution_count": 0,
      "outputs": []
    },
    {
      "cell_type": "code",
      "metadata": {
        "id": "snsIqevaBQr5",
        "colab_type": "code",
        "outputId": "bb3f26fc-0b93-4b3c-d9da-cd11ee837e1b",
        "colab": {
          "base_uri": "https://localhost:8080/",
          "height": 34
        }
      },
      "source": [
        "print(tf.__version__)"
      ],
      "execution_count": 0,
      "outputs": [
        {
          "output_type": "stream",
          "text": [
            "2.1.0\n"
          ],
          "name": "stdout"
        }
      ]
    },
    {
      "cell_type": "code",
      "metadata": {
        "id": "3YU_kqdlBTji",
        "colab_type": "code",
        "colab": {}
      },
      "source": [
        "from tensorflow.keras.layers import Dense,Conv2D,Conv1D,Flatten,MaxPool2D,MaxPool1D,BatchNormalization,Dropout, Input"
      ],
      "execution_count": 0,
      "outputs": []
    },
    {
      "cell_type": "code",
      "metadata": {
        "id": "0qEqleM0HPYE",
        "colab_type": "code",
        "colab": {}
      },
      "source": [
        "from tensorflow.keras.models import Model, Sequential"
      ],
      "execution_count": 0,
      "outputs": []
    },
    {
      "cell_type": "markdown",
      "metadata": {
        "id": "BkaFrgYKQ2tv",
        "colab_type": "text"
      },
      "source": [
        "# Step 2 : Importing Breast Cancer Dataset"
      ]
    },
    {
      "cell_type": "code",
      "metadata": {
        "id": "y2BjwXxsBo5r",
        "colab_type": "code",
        "colab": {}
      },
      "source": [
        "from sklearn.datasets import load_breast_cancer"
      ],
      "execution_count": 0,
      "outputs": []
    },
    {
      "cell_type": "code",
      "metadata": {
        "id": "ymGoOJfGB1vi",
        "colab_type": "code",
        "colab": {}
      },
      "source": [
        "cancer=load_breast_cancer()"
      ],
      "execution_count": 0,
      "outputs": []
    },
    {
      "cell_type": "code",
      "metadata": {
        "id": "KiGm7z1zC0vp",
        "colab_type": "code",
        "outputId": "46ac42e7-62c1-4c5f-f389-c363b159242c",
        "colab": {
          "base_uri": "https://localhost:8080/",
          "height": 1000
        }
      },
      "source": [
        "print(cancer.DESCR)"
      ],
      "execution_count": 0,
      "outputs": [
        {
          "output_type": "stream",
          "text": [
            ".. _breast_cancer_dataset:\n",
            "\n",
            "Breast cancer wisconsin (diagnostic) dataset\n",
            "--------------------------------------------\n",
            "\n",
            "**Data Set Characteristics:**\n",
            "\n",
            "    :Number of Instances: 569\n",
            "\n",
            "    :Number of Attributes: 30 numeric, predictive attributes and the class\n",
            "\n",
            "    :Attribute Information:\n",
            "        - radius (mean of distances from center to points on the perimeter)\n",
            "        - texture (standard deviation of gray-scale values)\n",
            "        - perimeter\n",
            "        - area\n",
            "        - smoothness (local variation in radius lengths)\n",
            "        - compactness (perimeter^2 / area - 1.0)\n",
            "        - concavity (severity of concave portions of the contour)\n",
            "        - concave points (number of concave portions of the contour)\n",
            "        - symmetry \n",
            "        - fractal dimension (\"coastline approximation\" - 1)\n",
            "\n",
            "        The mean, standard error, and \"worst\" or largest (mean of the three\n",
            "        largest values) of these features were computed for each image,\n",
            "        resulting in 30 features.  For instance, field 3 is Mean Radius, field\n",
            "        13 is Radius SE, field 23 is Worst Radius.\n",
            "\n",
            "        - class:\n",
            "                - WDBC-Malignant\n",
            "                - WDBC-Benign\n",
            "\n",
            "    :Summary Statistics:\n",
            "\n",
            "    ===================================== ====== ======\n",
            "                                           Min    Max\n",
            "    ===================================== ====== ======\n",
            "    radius (mean):                        6.981  28.11\n",
            "    texture (mean):                       9.71   39.28\n",
            "    perimeter (mean):                     43.79  188.5\n",
            "    area (mean):                          143.5  2501.0\n",
            "    smoothness (mean):                    0.053  0.163\n",
            "    compactness (mean):                   0.019  0.345\n",
            "    concavity (mean):                     0.0    0.427\n",
            "    concave points (mean):                0.0    0.201\n",
            "    symmetry (mean):                      0.106  0.304\n",
            "    fractal dimension (mean):             0.05   0.097\n",
            "    radius (standard error):              0.112  2.873\n",
            "    texture (standard error):             0.36   4.885\n",
            "    perimeter (standard error):           0.757  21.98\n",
            "    area (standard error):                6.802  542.2\n",
            "    smoothness (standard error):          0.002  0.031\n",
            "    compactness (standard error):         0.002  0.135\n",
            "    concavity (standard error):           0.0    0.396\n",
            "    concave points (standard error):      0.0    0.053\n",
            "    symmetry (standard error):            0.008  0.079\n",
            "    fractal dimension (standard error):   0.001  0.03\n",
            "    radius (worst):                       7.93   36.04\n",
            "    texture (worst):                      12.02  49.54\n",
            "    perimeter (worst):                    50.41  251.2\n",
            "    area (worst):                         185.2  4254.0\n",
            "    smoothness (worst):                   0.071  0.223\n",
            "    compactness (worst):                  0.027  1.058\n",
            "    concavity (worst):                    0.0    1.252\n",
            "    concave points (worst):               0.0    0.291\n",
            "    symmetry (worst):                     0.156  0.664\n",
            "    fractal dimension (worst):            0.055  0.208\n",
            "    ===================================== ====== ======\n",
            "\n",
            "    :Missing Attribute Values: None\n",
            "\n",
            "    :Class Distribution: 212 - Malignant, 357 - Benign\n",
            "\n",
            "    :Creator:  Dr. William H. Wolberg, W. Nick Street, Olvi L. Mangasarian\n",
            "\n",
            "    :Donor: Nick Street\n",
            "\n",
            "    :Date: November, 1995\n",
            "\n",
            "This is a copy of UCI ML Breast Cancer Wisconsin (Diagnostic) datasets.\n",
            "https://goo.gl/U2Uwz2\n",
            "\n",
            "Features are computed from a digitized image of a fine needle\n",
            "aspirate (FNA) of a breast mass.  They describe\n",
            "characteristics of the cell nuclei present in the image.\n",
            "\n",
            "Separating plane described above was obtained using\n",
            "Multisurface Method-Tree (MSM-T) [K. P. Bennett, \"Decision Tree\n",
            "Construction Via Linear Programming.\" Proceedings of the 4th\n",
            "Midwest Artificial Intelligence and Cognitive Science Society,\n",
            "pp. 97-101, 1992], a classification method which uses linear\n",
            "programming to construct a decision tree.  Relevant features\n",
            "were selected using an exhaustive search in the space of 1-4\n",
            "features and 1-3 separating planes.\n",
            "\n",
            "The actual linear program used to obtain the separating plane\n",
            "in the 3-dimensional space is that described in:\n",
            "[K. P. Bennett and O. L. Mangasarian: \"Robust Linear\n",
            "Programming Discrimination of Two Linearly Inseparable Sets\",\n",
            "Optimization Methods and Software 1, 1992, 23-34].\n",
            "\n",
            "This database is also available through the UW CS ftp server:\n",
            "\n",
            "ftp ftp.cs.wisc.edu\n",
            "cd math-prog/cpo-dataset/machine-learn/WDBC/\n",
            "\n",
            ".. topic:: References\n",
            "\n",
            "   - W.N. Street, W.H. Wolberg and O.L. Mangasarian. Nuclear feature extraction \n",
            "     for breast tumor diagnosis. IS&T/SPIE 1993 International Symposium on \n",
            "     Electronic Imaging: Science and Technology, volume 1905, pages 861-870,\n",
            "     San Jose, CA, 1993.\n",
            "   - O.L. Mangasarian, W.N. Street and W.H. Wolberg. Breast cancer diagnosis and \n",
            "     prognosis via linear programming. Operations Research, 43(4), pages 570-577, \n",
            "     July-August 1995.\n",
            "   - W.H. Wolberg, W.N. Street, and O.L. Mangasarian. Machine learning techniques\n",
            "     to diagnose breast cancer from fine-needle aspirates. Cancer Letters 77 (1994) \n",
            "     163-171.\n"
          ],
          "name": "stdout"
        }
      ]
    },
    {
      "cell_type": "code",
      "metadata": {
        "id": "hxP7UOORCwz5",
        "colab_type": "code",
        "colab": {}
      },
      "source": [
        "x=pd.DataFrame(data=cancer.data,columns=cancer.feature_names)"
      ],
      "execution_count": 0,
      "outputs": []
    },
    {
      "cell_type": "code",
      "metadata": {
        "id": "vQj3R00aDsgc",
        "colab_type": "code",
        "outputId": "1340310a-704b-4a5c-8ddd-8fd7aba81cb2",
        "colab": {
          "base_uri": "https://localhost:8080/",
          "height": 258
        }
      },
      "source": [
        "x.head()"
      ],
      "execution_count": 0,
      "outputs": [
        {
          "output_type": "execute_result",
          "data": {
            "text/html": [
              "<div>\n",
              "<style scoped>\n",
              "    .dataframe tbody tr th:only-of-type {\n",
              "        vertical-align: middle;\n",
              "    }\n",
              "\n",
              "    .dataframe tbody tr th {\n",
              "        vertical-align: top;\n",
              "    }\n",
              "\n",
              "    .dataframe thead th {\n",
              "        text-align: right;\n",
              "    }\n",
              "</style>\n",
              "<table border=\"1\" class=\"dataframe\">\n",
              "  <thead>\n",
              "    <tr style=\"text-align: right;\">\n",
              "      <th></th>\n",
              "      <th>mean radius</th>\n",
              "      <th>mean texture</th>\n",
              "      <th>mean perimeter</th>\n",
              "      <th>mean area</th>\n",
              "      <th>mean smoothness</th>\n",
              "      <th>mean compactness</th>\n",
              "      <th>mean concavity</th>\n",
              "      <th>mean concave points</th>\n",
              "      <th>mean symmetry</th>\n",
              "      <th>mean fractal dimension</th>\n",
              "      <th>radius error</th>\n",
              "      <th>texture error</th>\n",
              "      <th>perimeter error</th>\n",
              "      <th>area error</th>\n",
              "      <th>smoothness error</th>\n",
              "      <th>compactness error</th>\n",
              "      <th>concavity error</th>\n",
              "      <th>concave points error</th>\n",
              "      <th>symmetry error</th>\n",
              "      <th>fractal dimension error</th>\n",
              "      <th>worst radius</th>\n",
              "      <th>worst texture</th>\n",
              "      <th>worst perimeter</th>\n",
              "      <th>worst area</th>\n",
              "      <th>worst smoothness</th>\n",
              "      <th>worst compactness</th>\n",
              "      <th>worst concavity</th>\n",
              "      <th>worst concave points</th>\n",
              "      <th>worst symmetry</th>\n",
              "      <th>worst fractal dimension</th>\n",
              "    </tr>\n",
              "  </thead>\n",
              "  <tbody>\n",
              "    <tr>\n",
              "      <th>0</th>\n",
              "      <td>17.99</td>\n",
              "      <td>10.38</td>\n",
              "      <td>122.80</td>\n",
              "      <td>1001.0</td>\n",
              "      <td>0.11840</td>\n",
              "      <td>0.27760</td>\n",
              "      <td>0.3001</td>\n",
              "      <td>0.14710</td>\n",
              "      <td>0.2419</td>\n",
              "      <td>0.07871</td>\n",
              "      <td>1.0950</td>\n",
              "      <td>0.9053</td>\n",
              "      <td>8.589</td>\n",
              "      <td>153.40</td>\n",
              "      <td>0.006399</td>\n",
              "      <td>0.04904</td>\n",
              "      <td>0.05373</td>\n",
              "      <td>0.01587</td>\n",
              "      <td>0.03003</td>\n",
              "      <td>0.006193</td>\n",
              "      <td>25.38</td>\n",
              "      <td>17.33</td>\n",
              "      <td>184.60</td>\n",
              "      <td>2019.0</td>\n",
              "      <td>0.1622</td>\n",
              "      <td>0.6656</td>\n",
              "      <td>0.7119</td>\n",
              "      <td>0.2654</td>\n",
              "      <td>0.4601</td>\n",
              "      <td>0.11890</td>\n",
              "    </tr>\n",
              "    <tr>\n",
              "      <th>1</th>\n",
              "      <td>20.57</td>\n",
              "      <td>17.77</td>\n",
              "      <td>132.90</td>\n",
              "      <td>1326.0</td>\n",
              "      <td>0.08474</td>\n",
              "      <td>0.07864</td>\n",
              "      <td>0.0869</td>\n",
              "      <td>0.07017</td>\n",
              "      <td>0.1812</td>\n",
              "      <td>0.05667</td>\n",
              "      <td>0.5435</td>\n",
              "      <td>0.7339</td>\n",
              "      <td>3.398</td>\n",
              "      <td>74.08</td>\n",
              "      <td>0.005225</td>\n",
              "      <td>0.01308</td>\n",
              "      <td>0.01860</td>\n",
              "      <td>0.01340</td>\n",
              "      <td>0.01389</td>\n",
              "      <td>0.003532</td>\n",
              "      <td>24.99</td>\n",
              "      <td>23.41</td>\n",
              "      <td>158.80</td>\n",
              "      <td>1956.0</td>\n",
              "      <td>0.1238</td>\n",
              "      <td>0.1866</td>\n",
              "      <td>0.2416</td>\n",
              "      <td>0.1860</td>\n",
              "      <td>0.2750</td>\n",
              "      <td>0.08902</td>\n",
              "    </tr>\n",
              "    <tr>\n",
              "      <th>2</th>\n",
              "      <td>19.69</td>\n",
              "      <td>21.25</td>\n",
              "      <td>130.00</td>\n",
              "      <td>1203.0</td>\n",
              "      <td>0.10960</td>\n",
              "      <td>0.15990</td>\n",
              "      <td>0.1974</td>\n",
              "      <td>0.12790</td>\n",
              "      <td>0.2069</td>\n",
              "      <td>0.05999</td>\n",
              "      <td>0.7456</td>\n",
              "      <td>0.7869</td>\n",
              "      <td>4.585</td>\n",
              "      <td>94.03</td>\n",
              "      <td>0.006150</td>\n",
              "      <td>0.04006</td>\n",
              "      <td>0.03832</td>\n",
              "      <td>0.02058</td>\n",
              "      <td>0.02250</td>\n",
              "      <td>0.004571</td>\n",
              "      <td>23.57</td>\n",
              "      <td>25.53</td>\n",
              "      <td>152.50</td>\n",
              "      <td>1709.0</td>\n",
              "      <td>0.1444</td>\n",
              "      <td>0.4245</td>\n",
              "      <td>0.4504</td>\n",
              "      <td>0.2430</td>\n",
              "      <td>0.3613</td>\n",
              "      <td>0.08758</td>\n",
              "    </tr>\n",
              "    <tr>\n",
              "      <th>3</th>\n",
              "      <td>11.42</td>\n",
              "      <td>20.38</td>\n",
              "      <td>77.58</td>\n",
              "      <td>386.1</td>\n",
              "      <td>0.14250</td>\n",
              "      <td>0.28390</td>\n",
              "      <td>0.2414</td>\n",
              "      <td>0.10520</td>\n",
              "      <td>0.2597</td>\n",
              "      <td>0.09744</td>\n",
              "      <td>0.4956</td>\n",
              "      <td>1.1560</td>\n",
              "      <td>3.445</td>\n",
              "      <td>27.23</td>\n",
              "      <td>0.009110</td>\n",
              "      <td>0.07458</td>\n",
              "      <td>0.05661</td>\n",
              "      <td>0.01867</td>\n",
              "      <td>0.05963</td>\n",
              "      <td>0.009208</td>\n",
              "      <td>14.91</td>\n",
              "      <td>26.50</td>\n",
              "      <td>98.87</td>\n",
              "      <td>567.7</td>\n",
              "      <td>0.2098</td>\n",
              "      <td>0.8663</td>\n",
              "      <td>0.6869</td>\n",
              "      <td>0.2575</td>\n",
              "      <td>0.6638</td>\n",
              "      <td>0.17300</td>\n",
              "    </tr>\n",
              "    <tr>\n",
              "      <th>4</th>\n",
              "      <td>20.29</td>\n",
              "      <td>14.34</td>\n",
              "      <td>135.10</td>\n",
              "      <td>1297.0</td>\n",
              "      <td>0.10030</td>\n",
              "      <td>0.13280</td>\n",
              "      <td>0.1980</td>\n",
              "      <td>0.10430</td>\n",
              "      <td>0.1809</td>\n",
              "      <td>0.05883</td>\n",
              "      <td>0.7572</td>\n",
              "      <td>0.7813</td>\n",
              "      <td>5.438</td>\n",
              "      <td>94.44</td>\n",
              "      <td>0.011490</td>\n",
              "      <td>0.02461</td>\n",
              "      <td>0.05688</td>\n",
              "      <td>0.01885</td>\n",
              "      <td>0.01756</td>\n",
              "      <td>0.005115</td>\n",
              "      <td>22.54</td>\n",
              "      <td>16.67</td>\n",
              "      <td>152.20</td>\n",
              "      <td>1575.0</td>\n",
              "      <td>0.1374</td>\n",
              "      <td>0.2050</td>\n",
              "      <td>0.4000</td>\n",
              "      <td>0.1625</td>\n",
              "      <td>0.2364</td>\n",
              "      <td>0.07678</td>\n",
              "    </tr>\n",
              "  </tbody>\n",
              "</table>\n",
              "</div>"
            ],
            "text/plain": [
              "   mean radius  mean texture  ...  worst symmetry  worst fractal dimension\n",
              "0        17.99         10.38  ...          0.4601                  0.11890\n",
              "1        20.57         17.77  ...          0.2750                  0.08902\n",
              "2        19.69         21.25  ...          0.3613                  0.08758\n",
              "3        11.42         20.38  ...          0.6638                  0.17300\n",
              "4        20.29         14.34  ...          0.2364                  0.07678\n",
              "\n",
              "[5 rows x 30 columns]"
            ]
          },
          "metadata": {
            "tags": []
          },
          "execution_count": 10
        }
      ]
    },
    {
      "cell_type": "code",
      "metadata": {
        "id": "FGUGGCg2DvQB",
        "colab_type": "code",
        "colab": {}
      },
      "source": [
        "y=cancer.target"
      ],
      "execution_count": 0,
      "outputs": []
    },
    {
      "cell_type": "code",
      "metadata": {
        "id": "Y-Z2frqeDzmZ",
        "colab_type": "code",
        "outputId": "c023ff9a-e4ce-4ff8-cf04-2a2ee1f566d7",
        "colab": {
          "base_uri": "https://localhost:8080/",
          "height": 459
        }
      },
      "source": [
        "y"
      ],
      "execution_count": 0,
      "outputs": [
        {
          "output_type": "execute_result",
          "data": {
            "text/plain": [
              "array([0, 0, 0, 0, 0, 0, 0, 0, 0, 0, 0, 0, 0, 0, 0, 0, 0, 0, 0, 1, 1, 1,\n",
              "       0, 0, 0, 0, 0, 0, 0, 0, 0, 0, 0, 0, 0, 0, 0, 1, 0, 0, 0, 0, 0, 0,\n",
              "       0, 0, 1, 0, 1, 1, 1, 1, 1, 0, 0, 1, 0, 0, 1, 1, 1, 1, 0, 1, 0, 0,\n",
              "       1, 1, 1, 1, 0, 1, 0, 0, 1, 0, 1, 0, 0, 1, 1, 1, 0, 0, 1, 0, 0, 0,\n",
              "       1, 1, 1, 0, 1, 1, 0, 0, 1, 1, 1, 0, 0, 1, 1, 1, 1, 0, 1, 1, 0, 1,\n",
              "       1, 1, 1, 1, 1, 1, 1, 0, 0, 0, 1, 0, 0, 1, 1, 1, 0, 0, 1, 0, 1, 0,\n",
              "       0, 1, 0, 0, 1, 1, 0, 1, 1, 0, 1, 1, 1, 1, 0, 1, 1, 1, 1, 1, 1, 1,\n",
              "       1, 1, 0, 1, 1, 1, 1, 0, 0, 1, 0, 1, 1, 0, 0, 1, 1, 0, 0, 1, 1, 1,\n",
              "       1, 0, 1, 1, 0, 0, 0, 1, 0, 1, 0, 1, 1, 1, 0, 1, 1, 0, 0, 1, 0, 0,\n",
              "       0, 0, 1, 0, 0, 0, 1, 0, 1, 0, 1, 1, 0, 1, 0, 0, 0, 0, 1, 1, 0, 0,\n",
              "       1, 1, 1, 0, 1, 1, 1, 1, 1, 0, 0, 1, 1, 0, 1, 1, 0, 0, 1, 0, 1, 1,\n",
              "       1, 1, 0, 1, 1, 1, 1, 1, 0, 1, 0, 0, 0, 0, 0, 0, 0, 0, 0, 0, 0, 0,\n",
              "       0, 0, 1, 1, 1, 1, 1, 1, 0, 1, 0, 1, 1, 0, 1, 1, 0, 1, 0, 0, 1, 1,\n",
              "       1, 1, 1, 1, 1, 1, 1, 1, 1, 1, 1, 0, 1, 1, 0, 1, 0, 1, 1, 1, 1, 1,\n",
              "       1, 1, 1, 1, 1, 1, 1, 1, 1, 0, 1, 1, 1, 0, 1, 0, 1, 1, 1, 1, 0, 0,\n",
              "       0, 1, 1, 1, 1, 0, 1, 0, 1, 0, 1, 1, 1, 0, 1, 1, 1, 1, 1, 1, 1, 0,\n",
              "       0, 0, 1, 1, 1, 1, 1, 1, 1, 1, 1, 1, 1, 0, 0, 1, 0, 0, 0, 1, 0, 0,\n",
              "       1, 1, 1, 1, 1, 0, 1, 1, 1, 1, 1, 0, 1, 1, 1, 0, 1, 1, 0, 0, 1, 1,\n",
              "       1, 1, 1, 1, 0, 1, 1, 1, 1, 1, 1, 1, 0, 1, 1, 1, 1, 1, 0, 1, 1, 0,\n",
              "       1, 1, 1, 1, 1, 1, 1, 1, 1, 1, 1, 1, 0, 1, 0, 0, 1, 0, 1, 1, 1, 1,\n",
              "       1, 0, 1, 1, 0, 1, 0, 1, 1, 0, 1, 0, 1, 1, 1, 1, 1, 1, 1, 1, 0, 0,\n",
              "       1, 1, 1, 1, 1, 1, 0, 1, 1, 1, 1, 1, 1, 1, 1, 1, 1, 0, 1, 1, 1, 1,\n",
              "       1, 1, 1, 0, 1, 0, 1, 1, 0, 1, 1, 1, 1, 1, 0, 0, 1, 0, 1, 0, 1, 1,\n",
              "       1, 1, 1, 0, 1, 1, 0, 1, 0, 1, 0, 0, 1, 1, 1, 0, 1, 1, 1, 1, 1, 1,\n",
              "       1, 1, 1, 1, 1, 0, 1, 0, 0, 1, 1, 1, 1, 1, 1, 1, 1, 1, 1, 1, 1, 1,\n",
              "       1, 1, 1, 1, 1, 1, 1, 1, 1, 1, 1, 1, 0, 0, 0, 0, 0, 0, 1])"
            ]
          },
          "metadata": {
            "tags": []
          },
          "execution_count": 12
        }
      ]
    },
    {
      "cell_type": "code",
      "metadata": {
        "id": "kPJXfeReB_IQ",
        "colab_type": "code",
        "colab": {}
      },
      "source": [
        "from sklearn.model_selection import train_test_split"
      ],
      "execution_count": 0,
      "outputs": []
    },
    {
      "cell_type": "code",
      "metadata": {
        "id": "aZMuet_ACS7x",
        "colab_type": "code",
        "colab": {}
      },
      "source": [
        "#xtrain,ytrain,xtest,ytest=train_test_split(x, y, test_size = 0.2, random_state = 0)"
      ],
      "execution_count": 0,
      "outputs": []
    },
    {
      "cell_type": "code",
      "metadata": {
        "id": "Ti2X0V30EWn5",
        "colab_type": "code",
        "colab": {}
      },
      "source": [
        "xtrain, xtest, ytrain, ytest=train_test_split(x, y, test_size = 0.2, random_state = 0)"
      ],
      "execution_count": 0,
      "outputs": []
    },
    {
      "cell_type": "code",
      "metadata": {
        "id": "UUhHzdCgEL5O",
        "colab_type": "code",
        "outputId": "4bbeb1f8-95f7-417c-8be3-2a8c157b378c",
        "colab": {
          "base_uri": "https://localhost:8080/",
          "height": 34
        }
      },
      "source": [
        "xtrain.shape, xtest.shape"
      ],
      "execution_count": 0,
      "outputs": [
        {
          "output_type": "execute_result",
          "data": {
            "text/plain": [
              "((455, 30), (114, 30))"
            ]
          },
          "metadata": {
            "tags": []
          },
          "execution_count": 16
        }
      ]
    },
    {
      "cell_type": "code",
      "metadata": {
        "id": "mlz7br2qEQb1",
        "colab_type": "code",
        "outputId": "7ce4de44-0949-4ffb-8d9a-3d3bda87fdc8",
        "colab": {
          "base_uri": "https://localhost:8080/",
          "height": 34
        }
      },
      "source": [
        "ytest.shape, ytrain.shape"
      ],
      "execution_count": 0,
      "outputs": [
        {
          "output_type": "execute_result",
          "data": {
            "text/plain": [
              "((114,), (455,))"
            ]
          },
          "metadata": {
            "tags": []
          },
          "execution_count": 17
        }
      ]
    },
    {
      "cell_type": "code",
      "metadata": {
        "id": "c0mISBojEk-a",
        "colab_type": "code",
        "colab": {}
      },
      "source": [
        "#Feature scaling\n",
        "#the reason for doing it because dataset has very different values.\n",
        "from sklearn.preprocessing import StandardScaler\n",
        "sc=StandardScaler()"
      ],
      "execution_count": 0,
      "outputs": []
    },
    {
      "cell_type": "code",
      "metadata": {
        "id": "DKDRnfgJE3nd",
        "colab_type": "code",
        "colab": {}
      },
      "source": [
        "xtrain=sc.fit_transform(xtrain)\n",
        "xtest=sc.transform(xtest)"
      ],
      "execution_count": 0,
      "outputs": []
    },
    {
      "cell_type": "code",
      "metadata": {
        "id": "C-_88sfjFBsT",
        "colab_type": "code",
        "outputId": "85fe333e-96e8-4f52-989d-3eaab5269417",
        "colab": {
          "base_uri": "https://localhost:8080/",
          "height": 238
        }
      },
      "source": [
        "xtrain"
      ],
      "execution_count": 0,
      "outputs": [
        {
          "output_type": "execute_result",
          "data": {
            "text/plain": [
              "array([[-1.15036482, -0.39064196, -1.12855021, ..., -0.75798367,\n",
              "        -0.01614761, -0.38503402],\n",
              "       [-0.93798972,  0.68051405, -0.94820146, ..., -0.60687023,\n",
              "         0.09669004, -0.38615797],\n",
              "       [ 0.574121  , -1.03333557,  0.51394098, ..., -0.02371948,\n",
              "        -0.20050207, -0.75144254],\n",
              "       ...,\n",
              "       [-1.32422924, -0.20048168, -1.31754581, ..., -0.97974953,\n",
              "        -0.71542314, -0.11978123],\n",
              "       [-1.24380987, -0.2245526 , -1.28007609, ..., -1.75401433,\n",
              "        -1.58157125, -1.00601779],\n",
              "       [-0.73694129,  1.14989702, -0.71226578, ..., -0.27460457,\n",
              "        -1.25895095,  0.21515662]])"
            ]
          },
          "metadata": {
            "tags": []
          },
          "execution_count": 20
        }
      ]
    },
    {
      "cell_type": "code",
      "metadata": {
        "id": "O3w-vOlmFC0m",
        "colab_type": "code",
        "outputId": "d9aadb6d-dda3-45df-8255-79db70710474",
        "colab": {
          "base_uri": "https://localhost:8080/",
          "height": 34
        }
      },
      "source": [
        "xtrain.max(),xtrain.min()"
      ],
      "execution_count": 0,
      "outputs": [
        {
          "output_type": "execute_result",
          "data": {
            "text/plain": [
              "(11.731855390439579, -3.176344188780568)"
            ]
          },
          "metadata": {
            "tags": []
          },
          "execution_count": 21
        }
      ]
    },
    {
      "cell_type": "code",
      "metadata": {
        "id": "aLAu_cNFFqe6",
        "colab_type": "code",
        "outputId": "486a8435-2562-44d5-88cf-c01819b082ab",
        "colab": {
          "base_uri": "https://localhost:8080/",
          "height": 34
        }
      },
      "source": [
        "xtrain.shape"
      ],
      "execution_count": 0,
      "outputs": [
        {
          "output_type": "execute_result",
          "data": {
            "text/plain": [
              "(455, 30)"
            ]
          },
          "metadata": {
            "tags": []
          },
          "execution_count": 22
        }
      ]
    },
    {
      "cell_type": "code",
      "metadata": {
        "id": "8xWR-smAFE0C",
        "colab_type": "code",
        "colab": {}
      },
      "source": [
        "xtrain=np.expand_dims(xtrain,-1)"
      ],
      "execution_count": 0,
      "outputs": []
    },
    {
      "cell_type": "code",
      "metadata": {
        "id": "slyptSgZFsgo",
        "colab_type": "code",
        "outputId": "ccb152dd-263c-4f91-e821-705d37f428b8",
        "colab": {
          "base_uri": "https://localhost:8080/",
          "height": 34
        }
      },
      "source": [
        "xtrain.shape,xtest.shape"
      ],
      "execution_count": 0,
      "outputs": [
        {
          "output_type": "execute_result",
          "data": {
            "text/plain": [
              "((455, 30, 1), (114, 30))"
            ]
          },
          "metadata": {
            "tags": []
          },
          "execution_count": 24
        }
      ]
    },
    {
      "cell_type": "code",
      "metadata": {
        "id": "eqZUQXNqFt4u",
        "colab_type": "code",
        "colab": {}
      },
      "source": [
        "#To process this dataset,we have to process this dataset from 1D to 2D\n",
        "#x_train=x_train.reshape(455,30,1)\n",
        "xtest=xtest.reshape(114,30,1)"
      ],
      "execution_count": 0,
      "outputs": []
    },
    {
      "cell_type": "code",
      "metadata": {
        "id": "9PIbWQeUGNdU",
        "colab_type": "code",
        "outputId": "f3edecc2-f8f3-45a7-cc33-ff8691683d71",
        "colab": {
          "base_uri": "https://localhost:8080/",
          "height": 34
        }
      },
      "source": [
        "xtest.shape"
      ],
      "execution_count": 0,
      "outputs": [
        {
          "output_type": "execute_result",
          "data": {
            "text/plain": [
              "(114, 30, 1)"
            ]
          },
          "metadata": {
            "tags": []
          },
          "execution_count": 26
        }
      ]
    },
    {
      "cell_type": "markdown",
      "metadata": {
        "id": "D07Wl_edRBAL",
        "colab_type": "text"
      },
      "source": [
        "# Step 3 : Building the CNN model"
      ]
    },
    {
      "cell_type": "code",
      "metadata": {
        "id": "bFw_5_0AGPoV",
        "colab_type": "code",
        "colab": {}
      },
      "source": [
        "i=Input(shape=(30, 1))\n",
        "x= Conv1D(32,kernel_size=2,padding='same')(i)\n",
        "x= BatchNormalization()(x)\n",
        "x= Conv1D(32,kernel_size=2,padding='same')(x)\n",
        "x= BatchNormalization()(x)\n",
        "#x= MaxPool1D(pool_size=(2,2))\n",
        "\n",
        "x= Conv1D(64,kernel_size=2,padding='same')(i)\n",
        "x= BatchNormalization()(x)\n",
        "x= Conv1D(64,kernel_size=2,padding='same')(x)\n",
        "x= BatchNormalization()(x)\n",
        "#x= MaxPool1D(pool_size=(2,2))\n",
        "\n",
        "x= Flatten()(x)\n",
        "x=Dense(128,activation='relu')(x)\n",
        "x=Dropout(0.2)(x)\n",
        "x=Dense(1,activation='sigmoid')(x)\n",
        "\n",
        "\n",
        "model= Model(i,x)"
      ],
      "execution_count": 0,
      "outputs": []
    },
    {
      "cell_type": "code",
      "metadata": {
        "id": "uo-9d-tQIh46",
        "colab_type": "code",
        "outputId": "07852a37-d90a-4f18-c661-e329ff815289",
        "colab": {
          "base_uri": "https://localhost:8080/",
          "height": 459
        }
      },
      "source": [
        "model.summary()"
      ],
      "execution_count": 0,
      "outputs": [
        {
          "output_type": "stream",
          "text": [
            "Model: \"model\"\n",
            "_________________________________________________________________\n",
            "Layer (type)                 Output Shape              Param #   \n",
            "=================================================================\n",
            "input_1 (InputLayer)         [(None, 30, 1)]           0         \n",
            "_________________________________________________________________\n",
            "conv1d_2 (Conv1D)            (None, 30, 64)            192       \n",
            "_________________________________________________________________\n",
            "batch_normalization_2 (Batch (None, 30, 64)            256       \n",
            "_________________________________________________________________\n",
            "conv1d_3 (Conv1D)            (None, 30, 64)            8256      \n",
            "_________________________________________________________________\n",
            "batch_normalization_3 (Batch (None, 30, 64)            256       \n",
            "_________________________________________________________________\n",
            "flatten (Flatten)            (None, 1920)              0         \n",
            "_________________________________________________________________\n",
            "dense (Dense)                (None, 128)               245888    \n",
            "_________________________________________________________________\n",
            "dropout (Dropout)            (None, 128)               0         \n",
            "_________________________________________________________________\n",
            "dense_1 (Dense)              (None, 1)                 129       \n",
            "=================================================================\n",
            "Total params: 254,977\n",
            "Trainable params: 254,721\n",
            "Non-trainable params: 256\n",
            "_________________________________________________________________\n"
          ],
          "name": "stdout"
        }
      ]
    },
    {
      "cell_type": "code",
      "metadata": {
        "id": "6m3UnJ_4JSHc",
        "colab_type": "code",
        "colab": {}
      },
      "source": [
        "opt = tf.keras.optimizers.Adam(learning_rate=0.00004)\n",
        "model.compile(optimizer=opt,loss='binary_crossentropy',metrics=['accuracy'])"
      ],
      "execution_count": 0,
      "outputs": []
    },
    {
      "cell_type": "code",
      "metadata": {
        "id": "TCXZstYIJcFw",
        "colab_type": "code",
        "outputId": "55a7c144-06e3-4feb-b14f-481fc3402c81",
        "colab": {
          "base_uri": "https://localhost:8080/",
          "height": 1000
        }
      },
      "source": [
        "r=model.fit(xtrain,ytrain,epochs=100,validation_data=(xtest,ytest))"
      ],
      "execution_count": 0,
      "outputs": [
        {
          "output_type": "stream",
          "text": [
            "Train on 455 samples, validate on 114 samples\n",
            "Epoch 1/100\n",
            "455/455 [==============================] - 1s 2ms/sample - loss: 0.5276 - accuracy: 0.7451 - val_loss: 0.5564 - val_accuracy: 0.9561\n",
            "Epoch 2/100\n",
            "455/455 [==============================] - 0s 368us/sample - loss: 0.2205 - accuracy: 0.9121 - val_loss: 0.4761 - val_accuracy: 0.9474\n",
            "Epoch 3/100\n",
            "455/455 [==============================] - 0s 351us/sample - loss: 0.1546 - accuracy: 0.9429 - val_loss: 0.4281 - val_accuracy: 0.9561\n",
            "Epoch 4/100\n",
            "455/455 [==============================] - 0s 367us/sample - loss: 0.1257 - accuracy: 0.9626 - val_loss: 0.3923 - val_accuracy: 0.9649\n",
            "Epoch 5/100\n",
            "455/455 [==============================] - 0s 381us/sample - loss: 0.1321 - accuracy: 0.9604 - val_loss: 0.3603 - val_accuracy: 0.9649\n",
            "Epoch 6/100\n",
            "455/455 [==============================] - 0s 351us/sample - loss: 0.1084 - accuracy: 0.9560 - val_loss: 0.3382 - val_accuracy: 0.9649\n",
            "Epoch 7/100\n",
            "455/455 [==============================] - 0s 369us/sample - loss: 0.1044 - accuracy: 0.9670 - val_loss: 0.3090 - val_accuracy: 0.9649\n",
            "Epoch 8/100\n",
            "455/455 [==============================] - 0s 364us/sample - loss: 0.0932 - accuracy: 0.9692 - val_loss: 0.2847 - val_accuracy: 0.9649\n",
            "Epoch 9/100\n",
            "455/455 [==============================] - 0s 347us/sample - loss: 0.0907 - accuracy: 0.9758 - val_loss: 0.2611 - val_accuracy: 0.9649\n",
            "Epoch 10/100\n",
            "455/455 [==============================] - 0s 385us/sample - loss: 0.0925 - accuracy: 0.9692 - val_loss: 0.2404 - val_accuracy: 0.9737\n",
            "Epoch 11/100\n",
            "455/455 [==============================] - 0s 370us/sample - loss: 0.0897 - accuracy: 0.9670 - val_loss: 0.2179 - val_accuracy: 0.9825\n",
            "Epoch 12/100\n",
            "455/455 [==============================] - 0s 353us/sample - loss: 0.0845 - accuracy: 0.9736 - val_loss: 0.1998 - val_accuracy: 0.9825\n",
            "Epoch 13/100\n",
            "455/455 [==============================] - 0s 361us/sample - loss: 0.0703 - accuracy: 0.9824 - val_loss: 0.1820 - val_accuracy: 0.9825\n",
            "Epoch 14/100\n",
            "455/455 [==============================] - 0s 349us/sample - loss: 0.0823 - accuracy: 0.9714 - val_loss: 0.1661 - val_accuracy: 0.9825\n",
            "Epoch 15/100\n",
            "455/455 [==============================] - 0s 360us/sample - loss: 0.0663 - accuracy: 0.9802 - val_loss: 0.1532 - val_accuracy: 0.9825\n",
            "Epoch 16/100\n",
            "455/455 [==============================] - 0s 375us/sample - loss: 0.0802 - accuracy: 0.9714 - val_loss: 0.1432 - val_accuracy: 0.9825\n",
            "Epoch 17/100\n",
            "455/455 [==============================] - 0s 359us/sample - loss: 0.0697 - accuracy: 0.9824 - val_loss: 0.1322 - val_accuracy: 0.9825\n",
            "Epoch 18/100\n",
            "455/455 [==============================] - 0s 352us/sample - loss: 0.0649 - accuracy: 0.9802 - val_loss: 0.1225 - val_accuracy: 0.9825\n",
            "Epoch 19/100\n",
            "455/455 [==============================] - 0s 369us/sample - loss: 0.0685 - accuracy: 0.9780 - val_loss: 0.1147 - val_accuracy: 0.9825\n",
            "Epoch 20/100\n",
            "455/455 [==============================] - 0s 352us/sample - loss: 0.0655 - accuracy: 0.9802 - val_loss: 0.1081 - val_accuracy: 0.9825\n",
            "Epoch 21/100\n",
            "455/455 [==============================] - 0s 350us/sample - loss: 0.0715 - accuracy: 0.9736 - val_loss: 0.1016 - val_accuracy: 0.9825\n",
            "Epoch 22/100\n",
            "455/455 [==============================] - 0s 399us/sample - loss: 0.0650 - accuracy: 0.9802 - val_loss: 0.0973 - val_accuracy: 0.9825\n",
            "Epoch 23/100\n",
            "455/455 [==============================] - 0s 361us/sample - loss: 0.0598 - accuracy: 0.9824 - val_loss: 0.0921 - val_accuracy: 0.9825\n",
            "Epoch 24/100\n",
            "455/455 [==============================] - 0s 356us/sample - loss: 0.0533 - accuracy: 0.9824 - val_loss: 0.0900 - val_accuracy: 0.9825\n",
            "Epoch 25/100\n",
            "455/455 [==============================] - 0s 360us/sample - loss: 0.0523 - accuracy: 0.9890 - val_loss: 0.0868 - val_accuracy: 0.9912\n",
            "Epoch 26/100\n",
            "455/455 [==============================] - 0s 371us/sample - loss: 0.0576 - accuracy: 0.9802 - val_loss: 0.0830 - val_accuracy: 0.9912\n",
            "Epoch 27/100\n",
            "455/455 [==============================] - 0s 411us/sample - loss: 0.0582 - accuracy: 0.9846 - val_loss: 0.0785 - val_accuracy: 0.9825\n",
            "Epoch 28/100\n",
            "455/455 [==============================] - 0s 409us/sample - loss: 0.0568 - accuracy: 0.9802 - val_loss: 0.0738 - val_accuracy: 0.9825\n",
            "Epoch 29/100\n",
            "455/455 [==============================] - 0s 382us/sample - loss: 0.0466 - accuracy: 0.9890 - val_loss: 0.0711 - val_accuracy: 0.9825\n",
            "Epoch 30/100\n",
            "455/455 [==============================] - 0s 383us/sample - loss: 0.0370 - accuracy: 0.9868 - val_loss: 0.0690 - val_accuracy: 0.9825\n",
            "Epoch 31/100\n",
            "455/455 [==============================] - 0s 371us/sample - loss: 0.0595 - accuracy: 0.9802 - val_loss: 0.0693 - val_accuracy: 0.9825\n",
            "Epoch 32/100\n",
            "455/455 [==============================] - 0s 376us/sample - loss: 0.0461 - accuracy: 0.9824 - val_loss: 0.0700 - val_accuracy: 0.9825\n",
            "Epoch 33/100\n",
            "455/455 [==============================] - 0s 377us/sample - loss: 0.0591 - accuracy: 0.9824 - val_loss: 0.0696 - val_accuracy: 0.9825\n",
            "Epoch 34/100\n",
            "455/455 [==============================] - 0s 402us/sample - loss: 0.0552 - accuracy: 0.9824 - val_loss: 0.0691 - val_accuracy: 0.9825\n",
            "Epoch 35/100\n",
            "455/455 [==============================] - 0s 366us/sample - loss: 0.0517 - accuracy: 0.9780 - val_loss: 0.0702 - val_accuracy: 0.9825\n",
            "Epoch 36/100\n",
            "455/455 [==============================] - 0s 353us/sample - loss: 0.0479 - accuracy: 0.9890 - val_loss: 0.0720 - val_accuracy: 0.9825\n",
            "Epoch 37/100\n",
            "455/455 [==============================] - 0s 342us/sample - loss: 0.0619 - accuracy: 0.9780 - val_loss: 0.0725 - val_accuracy: 0.9825\n",
            "Epoch 38/100\n",
            "455/455 [==============================] - 0s 353us/sample - loss: 0.0465 - accuracy: 0.9912 - val_loss: 0.0745 - val_accuracy: 0.9825\n",
            "Epoch 39/100\n",
            "455/455 [==============================] - 0s 369us/sample - loss: 0.0494 - accuracy: 0.9802 - val_loss: 0.0743 - val_accuracy: 0.9825\n",
            "Epoch 40/100\n",
            "455/455 [==============================] - 0s 360us/sample - loss: 0.0499 - accuracy: 0.9824 - val_loss: 0.0753 - val_accuracy: 0.9825\n",
            "Epoch 41/100\n",
            "455/455 [==============================] - 0s 358us/sample - loss: 0.0481 - accuracy: 0.9846 - val_loss: 0.0706 - val_accuracy: 0.9825\n",
            "Epoch 42/100\n",
            "455/455 [==============================] - 0s 344us/sample - loss: 0.0537 - accuracy: 0.9780 - val_loss: 0.0706 - val_accuracy: 0.9825\n",
            "Epoch 43/100\n",
            "455/455 [==============================] - 0s 335us/sample - loss: 0.0427 - accuracy: 0.9868 - val_loss: 0.0706 - val_accuracy: 0.9825\n",
            "Epoch 44/100\n",
            "455/455 [==============================] - 0s 333us/sample - loss: 0.0360 - accuracy: 0.9934 - val_loss: 0.0706 - val_accuracy: 0.9825\n",
            "Epoch 45/100\n",
            "455/455 [==============================] - 0s 360us/sample - loss: 0.0419 - accuracy: 0.9868 - val_loss: 0.0705 - val_accuracy: 0.9912\n",
            "Epoch 46/100\n",
            "455/455 [==============================] - 0s 363us/sample - loss: 0.0424 - accuracy: 0.9868 - val_loss: 0.0690 - val_accuracy: 0.9912\n",
            "Epoch 47/100\n",
            "455/455 [==============================] - 0s 339us/sample - loss: 0.0387 - accuracy: 0.9912 - val_loss: 0.0680 - val_accuracy: 0.9912\n",
            "Epoch 48/100\n",
            "455/455 [==============================] - 0s 356us/sample - loss: 0.0495 - accuracy: 0.9824 - val_loss: 0.0679 - val_accuracy: 0.9825\n",
            "Epoch 49/100\n",
            "455/455 [==============================] - 0s 344us/sample - loss: 0.0373 - accuracy: 0.9890 - val_loss: 0.0691 - val_accuracy: 0.9912\n",
            "Epoch 50/100\n",
            "455/455 [==============================] - 0s 351us/sample - loss: 0.0361 - accuracy: 0.9890 - val_loss: 0.0669 - val_accuracy: 0.9912\n",
            "Epoch 51/100\n",
            "455/455 [==============================] - 0s 384us/sample - loss: 0.0277 - accuracy: 0.9934 - val_loss: 0.0656 - val_accuracy: 0.9912\n",
            "Epoch 52/100\n",
            "455/455 [==============================] - 0s 348us/sample - loss: 0.0413 - accuracy: 0.9846 - val_loss: 0.0667 - val_accuracy: 0.9912\n",
            "Epoch 53/100\n",
            "455/455 [==============================] - 0s 368us/sample - loss: 0.0480 - accuracy: 0.9824 - val_loss: 0.0687 - val_accuracy: 0.9825\n",
            "Epoch 54/100\n",
            "455/455 [==============================] - 0s 361us/sample - loss: 0.0511 - accuracy: 0.9802 - val_loss: 0.0711 - val_accuracy: 0.9825\n",
            "Epoch 55/100\n",
            "455/455 [==============================] - 0s 339us/sample - loss: 0.0382 - accuracy: 0.9846 - val_loss: 0.0707 - val_accuracy: 0.9912\n",
            "Epoch 56/100\n",
            "455/455 [==============================] - 0s 370us/sample - loss: 0.0439 - accuracy: 0.9890 - val_loss: 0.0736 - val_accuracy: 0.9825\n",
            "Epoch 57/100\n",
            "455/455 [==============================] - 0s 343us/sample - loss: 0.0290 - accuracy: 0.9956 - val_loss: 0.0732 - val_accuracy: 0.9825\n",
            "Epoch 58/100\n",
            "455/455 [==============================] - 0s 349us/sample - loss: 0.0359 - accuracy: 0.9868 - val_loss: 0.0761 - val_accuracy: 0.9825\n",
            "Epoch 59/100\n",
            "455/455 [==============================] - 0s 412us/sample - loss: 0.0370 - accuracy: 0.9846 - val_loss: 0.0769 - val_accuracy: 0.9825\n",
            "Epoch 60/100\n",
            "455/455 [==============================] - 0s 364us/sample - loss: 0.0410 - accuracy: 0.9846 - val_loss: 0.0749 - val_accuracy: 0.9825\n",
            "Epoch 61/100\n",
            "455/455 [==============================] - 0s 344us/sample - loss: 0.0247 - accuracy: 0.9934 - val_loss: 0.0748 - val_accuracy: 0.9825\n",
            "Epoch 62/100\n",
            "455/455 [==============================] - 0s 371us/sample - loss: 0.0387 - accuracy: 0.9890 - val_loss: 0.0749 - val_accuracy: 0.9912\n",
            "Epoch 63/100\n",
            "455/455 [==============================] - 0s 360us/sample - loss: 0.0309 - accuracy: 0.9912 - val_loss: 0.0741 - val_accuracy: 0.9912\n",
            "Epoch 64/100\n",
            "455/455 [==============================] - 0s 368us/sample - loss: 0.0282 - accuracy: 0.9868 - val_loss: 0.0735 - val_accuracy: 0.9825\n",
            "Epoch 65/100\n",
            "455/455 [==============================] - 0s 392us/sample - loss: 0.0307 - accuracy: 0.9912 - val_loss: 0.0744 - val_accuracy: 0.9825\n",
            "Epoch 66/100\n",
            "455/455 [==============================] - 0s 346us/sample - loss: 0.0371 - accuracy: 0.9890 - val_loss: 0.0743 - val_accuracy: 0.9825\n",
            "Epoch 67/100\n",
            "455/455 [==============================] - 0s 385us/sample - loss: 0.0270 - accuracy: 0.9934 - val_loss: 0.0748 - val_accuracy: 0.9825\n",
            "Epoch 68/100\n",
            "455/455 [==============================] - 0s 379us/sample - loss: 0.0353 - accuracy: 0.9890 - val_loss: 0.0730 - val_accuracy: 0.9825\n",
            "Epoch 69/100\n",
            "455/455 [==============================] - 0s 372us/sample - loss: 0.0418 - accuracy: 0.9780 - val_loss: 0.0739 - val_accuracy: 0.9825\n",
            "Epoch 70/100\n",
            "455/455 [==============================] - 0s 358us/sample - loss: 0.0368 - accuracy: 0.9868 - val_loss: 0.0792 - val_accuracy: 0.9912\n",
            "Epoch 71/100\n",
            "455/455 [==============================] - 0s 363us/sample - loss: 0.0364 - accuracy: 0.9846 - val_loss: 0.0788 - val_accuracy: 0.9912\n",
            "Epoch 72/100\n",
            "455/455 [==============================] - 0s 361us/sample - loss: 0.0320 - accuracy: 0.9890 - val_loss: 0.0781 - val_accuracy: 0.9825\n",
            "Epoch 73/100\n",
            "455/455 [==============================] - 0s 357us/sample - loss: 0.0356 - accuracy: 0.9912 - val_loss: 0.0777 - val_accuracy: 0.9825\n",
            "Epoch 74/100\n",
            "455/455 [==============================] - 0s 374us/sample - loss: 0.0271 - accuracy: 0.9912 - val_loss: 0.0773 - val_accuracy: 0.9825\n",
            "Epoch 75/100\n",
            "455/455 [==============================] - 0s 373us/sample - loss: 0.0356 - accuracy: 0.9890 - val_loss: 0.0788 - val_accuracy: 0.9912\n",
            "Epoch 76/100\n",
            "455/455 [==============================] - 0s 364us/sample - loss: 0.0237 - accuracy: 0.9956 - val_loss: 0.0771 - val_accuracy: 0.9912\n",
            "Epoch 77/100\n",
            "455/455 [==============================] - 0s 363us/sample - loss: 0.0369 - accuracy: 0.9846 - val_loss: 0.0770 - val_accuracy: 0.9912\n",
            "Epoch 78/100\n",
            "455/455 [==============================] - 0s 356us/sample - loss: 0.0270 - accuracy: 0.9956 - val_loss: 0.0755 - val_accuracy: 0.9912\n",
            "Epoch 79/100\n",
            "455/455 [==============================] - 0s 365us/sample - loss: 0.0247 - accuracy: 0.9912 - val_loss: 0.0730 - val_accuracy: 0.9825\n",
            "Epoch 80/100\n",
            "455/455 [==============================] - 0s 350us/sample - loss: 0.0246 - accuracy: 0.9956 - val_loss: 0.0717 - val_accuracy: 0.9825\n",
            "Epoch 81/100\n",
            "455/455 [==============================] - 0s 370us/sample - loss: 0.0277 - accuracy: 0.9890 - val_loss: 0.0744 - val_accuracy: 0.9825\n",
            "Epoch 82/100\n",
            "455/455 [==============================] - 0s 380us/sample - loss: 0.0259 - accuracy: 0.9912 - val_loss: 0.0835 - val_accuracy: 0.9825\n",
            "Epoch 83/100\n",
            "455/455 [==============================] - 0s 398us/sample - loss: 0.0316 - accuracy: 0.9912 - val_loss: 0.0864 - val_accuracy: 0.9825\n",
            "Epoch 84/100\n",
            "455/455 [==============================] - 0s 367us/sample - loss: 0.0320 - accuracy: 0.9934 - val_loss: 0.0897 - val_accuracy: 0.9825\n",
            "Epoch 85/100\n",
            "455/455 [==============================] - 0s 362us/sample - loss: 0.0271 - accuracy: 0.9912 - val_loss: 0.0889 - val_accuracy: 0.9825\n",
            "Epoch 86/100\n",
            "455/455 [==============================] - 0s 344us/sample - loss: 0.0251 - accuracy: 0.9934 - val_loss: 0.0904 - val_accuracy: 0.9912\n",
            "Epoch 87/100\n",
            "455/455 [==============================] - 0s 366us/sample - loss: 0.0268 - accuracy: 0.9912 - val_loss: 0.0901 - val_accuracy: 0.9912\n",
            "Epoch 88/100\n",
            "455/455 [==============================] - 0s 337us/sample - loss: 0.0265 - accuracy: 0.9934 - val_loss: 0.0905 - val_accuracy: 0.9912\n",
            "Epoch 89/100\n",
            "455/455 [==============================] - 0s 368us/sample - loss: 0.0348 - accuracy: 0.9934 - val_loss: 0.0906 - val_accuracy: 0.9825\n",
            "Epoch 90/100\n",
            "455/455 [==============================] - 0s 352us/sample - loss: 0.0274 - accuracy: 0.9934 - val_loss: 0.0876 - val_accuracy: 0.9825\n",
            "Epoch 91/100\n",
            "455/455 [==============================] - 0s 346us/sample - loss: 0.0312 - accuracy: 0.9846 - val_loss: 0.0843 - val_accuracy: 0.9825\n",
            "Epoch 92/100\n",
            "455/455 [==============================] - 0s 384us/sample - loss: 0.0283 - accuracy: 0.9868 - val_loss: 0.0844 - val_accuracy: 0.9825\n",
            "Epoch 93/100\n",
            "455/455 [==============================] - 0s 369us/sample - loss: 0.0284 - accuracy: 0.9868 - val_loss: 0.0809 - val_accuracy: 0.9825\n",
            "Epoch 94/100\n",
            "455/455 [==============================] - 0s 361us/sample - loss: 0.0267 - accuracy: 0.9890 - val_loss: 0.0754 - val_accuracy: 0.9825\n",
            "Epoch 95/100\n",
            "455/455 [==============================] - 0s 382us/sample - loss: 0.0196 - accuracy: 0.9956 - val_loss: 0.0816 - val_accuracy: 0.9825\n",
            "Epoch 96/100\n",
            "455/455 [==============================] - 0s 355us/sample - loss: 0.0207 - accuracy: 1.0000 - val_loss: 0.0849 - val_accuracy: 0.9825\n",
            "Epoch 97/100\n",
            "455/455 [==============================] - 0s 361us/sample - loss: 0.0285 - accuracy: 0.9868 - val_loss: 0.0879 - val_accuracy: 0.9825\n",
            "Epoch 98/100\n",
            "455/455 [==============================] - 0s 363us/sample - loss: 0.0311 - accuracy: 0.9890 - val_loss: 0.0925 - val_accuracy: 0.9825\n",
            "Epoch 99/100\n",
            "455/455 [==============================] - 0s 400us/sample - loss: 0.0220 - accuracy: 0.9956 - val_loss: 0.0932 - val_accuracy: 0.9825\n",
            "Epoch 100/100\n",
            "455/455 [==============================] - 0s 389us/sample - loss: 0.0192 - accuracy: 0.9934 - val_loss: 0.0928 - val_accuracy: 0.9825\n"
          ],
          "name": "stdout"
        }
      ]
    },
    {
      "cell_type": "markdown",
      "metadata": {
        "id": "I5vkCEUFRIDt",
        "colab_type": "text"
      },
      "source": [
        "# Step 4 : Making Predictions"
      ]
    },
    {
      "cell_type": "code",
      "metadata": {
        "id": "ht-aDLsBPc_i",
        "colab_type": "code",
        "colab": {}
      },
      "source": [
        "from sklearn.metrics import confusion_matrix,accuracy_score"
      ],
      "execution_count": 0,
      "outputs": []
    },
    {
      "cell_type": "code",
      "metadata": {
        "id": "Hw84NybZPprQ",
        "colab_type": "code",
        "outputId": "e0f1f3a9-df6f-42fd-87bb-f070e442d1da",
        "colab": {
          "base_uri": "https://localhost:8080/",
          "height": 1000
        }
      },
      "source": [
        "P = model.predict(xtest)\n",
        "print(P)"
      ],
      "execution_count": 0,
      "outputs": [
        {
          "output_type": "stream",
          "text": [
            "[[3.1459989e-04]\n",
            " [9.1050518e-01]\n",
            " [9.9939013e-01]\n",
            " [9.9482477e-01]\n",
            " [9.9984646e-01]\n",
            " [9.9985600e-01]\n",
            " [9.9999428e-01]\n",
            " [9.9990952e-01]\n",
            " [9.9999976e-01]\n",
            " [1.0000000e+00]\n",
            " [8.9103395e-01]\n",
            " [9.7826409e-01]\n",
            " [9.9999666e-01]\n",
            " [7.6631498e-01]\n",
            " [5.6252879e-01]\n",
            " [6.4544813e-03]\n",
            " [9.9980980e-01]\n",
            " [1.4073796e-06]\n",
            " [2.5945072e-04]\n",
            " [1.0300786e-10]\n",
            " [2.3450759e-04]\n",
            " [2.2161177e-03]\n",
            " [9.9789196e-01]\n",
            " [9.9937040e-01]\n",
            " [1.7632137e-03]\n",
            " [9.9988031e-01]\n",
            " [9.9999237e-01]\n",
            " [3.4460397e-03]\n",
            " [9.9943346e-01]\n",
            " [1.9937161e-06]\n",
            " [9.9998617e-01]\n",
            " [1.3133463e-04]\n",
            " [9.0884918e-01]\n",
            " [6.8577105e-04]\n",
            " [9.9999988e-01]\n",
            " [2.7472380e-04]\n",
            " [9.6567076e-01]\n",
            " [2.5627043e-04]\n",
            " [9.9769151e-01]\n",
            " [2.6749558e-04]\n",
            " [2.0986218e-02]\n",
            " [9.9996996e-01]\n",
            " [8.1394531e-02]\n",
            " [9.9999309e-01]\n",
            " [9.9314660e-01]\n",
            " [3.0058886e-10]\n",
            " [1.0000000e+00]\n",
            " [9.8492819e-01]\n",
            " [9.9997437e-01]\n",
            " [2.0300743e-06]\n",
            " [6.5080712e-05]\n",
            " [2.0579913e-01]\n",
            " [6.9740181e-06]\n",
            " [9.9976343e-01]\n",
            " [9.9866033e-01]\n",
            " [9.9995947e-01]\n",
            " [9.9977273e-01]\n",
            " [9.9994516e-01]\n",
            " [9.8914790e-01]\n",
            " [9.5262020e-10]\n",
            " [4.2361165e-03]\n",
            " [1.5395018e-04]\n",
            " [9.9998057e-01]\n",
            " [9.9928123e-01]\n",
            " [1.7056300e-03]\n",
            " [9.7627115e-01]\n",
            " [2.9820555e-16]\n",
            " [1.0777643e-06]\n",
            " [2.4657862e-07]\n",
            " [9.9993682e-01]\n",
            " [6.8307072e-01]\n",
            " [1.2648667e-06]\n",
            " [9.9964070e-01]\n",
            " [4.0054727e-02]\n",
            " [8.4828130e-08]\n",
            " [9.7870094e-01]\n",
            " [9.9999475e-01]\n",
            " [9.8944074e-01]\n",
            " [9.9985671e-01]\n",
            " [9.9999988e-01]\n",
            " [7.2193287e-02]\n",
            " [2.2228762e-14]\n",
            " [4.7419962e-07]\n",
            " [9.9993634e-01]\n",
            " [2.7876684e-02]\n",
            " [9.9999261e-01]\n",
            " [9.9998415e-01]\n",
            " [9.9999988e-01]\n",
            " [1.3342935e-05]\n",
            " [1.1234894e-12]\n",
            " [9.9999881e-01]\n",
            " [4.1330880e-01]\n",
            " [6.4792264e-01]\n",
            " [3.2248238e-07]\n",
            " [9.9993527e-01]\n",
            " [9.9911672e-01]\n",
            " [1.1489856e-08]\n",
            " [9.9769312e-01]\n",
            " [9.9747676e-01]\n",
            " [9.9980122e-01]\n",
            " [1.0000000e+00]\n",
            " [9.9879503e-01]\n",
            " [9.9758184e-01]\n",
            " [9.8182249e-01]\n",
            " [3.4967136e-06]\n",
            " [9.9997580e-01]\n",
            " [8.4214689e-09]\n",
            " [9.3140680e-01]\n",
            " [5.3648871e-01]\n",
            " [9.9835521e-01]\n",
            " [9.9894184e-01]\n",
            " [4.2273746e-06]\n",
            " [1.0213355e-05]\n",
            " [8.6608857e-01]]\n"
          ],
          "name": "stdout"
        }
      ]
    },
    {
      "cell_type": "code",
      "metadata": {
        "id": "Nd-xYOL6QGJG",
        "colab_type": "code",
        "outputId": "78b7dd70-7fdb-4efc-d0ad-b29206018a51",
        "colab": {
          "base_uri": "https://localhost:8080/",
          "height": 102
        }
      },
      "source": [
        "# Round to get the actual predictions\n",
        "# Note: has to be flattened since the targets are size (N,) while the predictions are size (N,1)\n",
        "P = np.round(P).flatten()\n",
        "print(P)"
      ],
      "execution_count": 0,
      "outputs": [
        {
          "output_type": "stream",
          "text": [
            "[0. 1. 1. 1. 1. 1. 1. 1. 1. 1. 1. 1. 1. 1. 1. 0. 1. 0. 0. 0. 0. 0. 1. 1.\n",
            " 0. 1. 1. 0. 1. 0. 1. 0. 1. 0. 1. 0. 1. 0. 1. 0. 0. 1. 0. 1. 1. 0. 1. 1.\n",
            " 1. 0. 0. 0. 0. 1. 1. 1. 1. 1. 1. 0. 0. 0. 1. 1. 0. 1. 0. 0. 0. 1. 1. 0.\n",
            " 1. 0. 0. 1. 1. 1. 1. 1. 0. 0. 0. 1. 0. 1. 1. 1. 0. 0. 1. 0. 1. 0. 1. 1.\n",
            " 0. 1. 1. 1. 1. 1. 1. 1. 0. 1. 0. 1. 1. 1. 1. 0. 0. 1.]\n"
          ],
          "name": "stdout"
        }
      ]
    },
    {
      "cell_type": "code",
      "metadata": {
        "id": "U_znCwpIQGMS",
        "colab_type": "code",
        "outputId": "22003285-0de3-48b1-e805-da5cfd929a4e",
        "colab": {
          "base_uri": "https://localhost:8080/",
          "height": 51
        }
      },
      "source": [
        "cm1=confusion_matrix(P,ytest)\n",
        "print(cm1)"
      ],
      "execution_count": 0,
      "outputs": [
        {
          "output_type": "stream",
          "text": [
            "[[45  0]\n",
            " [ 2 67]]\n"
          ],
          "name": "stdout"
        }
      ]
    },
    {
      "cell_type": "code",
      "metadata": {
        "id": "CwqeZuRgQGQY",
        "colab_type": "code",
        "outputId": "8d776a80-dd42-4b3a-f12d-eefd09f385db",
        "colab": {
          "base_uri": "https://localhost:8080/",
          "height": 34
        }
      },
      "source": [
        "print(accuracy_score(P,ytest))"
      ],
      "execution_count": 0,
      "outputs": [
        {
          "output_type": "stream",
          "text": [
            "0.9824561403508771\n"
          ],
          "name": "stdout"
        }
      ]
    },
    {
      "cell_type": "markdown",
      "metadata": {
        "id": "LQKm20QWRPYs",
        "colab_type": "text"
      },
      "source": [
        "# Step 5 : Evaluating Model"
      ]
    },
    {
      "cell_type": "code",
      "metadata": {
        "id": "LOomW7i3KKl6",
        "colab_type": "code",
        "outputId": "2922bbb0-3dca-466a-cb83-e8943686f7cc",
        "colab": {
          "base_uri": "https://localhost:8080/",
          "height": 282
        }
      },
      "source": [
        "plt.plot(r.history['accuracy'],label='Train accuracy')\n",
        "plt.plot(r.history['val_accuracy'],label='Test accuracy')\n",
        "plt.legend()"
      ],
      "execution_count": 0,
      "outputs": [
        {
          "output_type": "execute_result",
          "data": {
            "text/plain": [
              "<matplotlib.legend.Legend at 0x7fe006ce50b8>"
            ]
          },
          "metadata": {
            "tags": []
          },
          "execution_count": 43
        },
        {
          "output_type": "display_data",
          "data": {
            "image/png": "[encoded data removed]",
            "text/plain": [
              "<Figure size 432x288 with 1 Axes>"
            ]
          },
          "metadata": {
            "tags": [],
            "needs_background": "light"
          }
        }
      ]
    },
    {
      "cell_type": "code",
      "metadata": {
        "id": "C-cnqeFAKKpW",
        "colab_type": "code",
        "outputId": "ad1df86f-648e-4c5e-ec4f-4de4994d3457",
        "colab": {
          "base_uri": "https://localhost:8080/",
          "height": 282
        }
      },
      "source": [
        "plt.plot(r.history['loss'],label='Train loss')\n",
        "plt.plot(r.history['val_loss'],label='Test loss')\n",
        "plt.legend()"
      ],
      "execution_count": 0,
      "outputs": [
        {
          "output_type": "execute_result",
          "data": {
            "text/plain": [
              "<matplotlib.legend.Legend at 0x7fe006806518>"
            ]
          },
          "metadata": {
            "tags": []
          },
          "execution_count": 44
        },
        {
          "output_type": "display_data",
          "data": {
            "image/png": "[encoded data removed]",
            "text/plain": [
              "<Figure size 432x288 with 1 Axes>"
            ]
          },
          "metadata": {
            "tags": [],
            "needs_background": "light"
          }
        }
      ]
    },
    {
      "cell_type": "code",
      "metadata": {
        "id": "KhVJaIYu5BZy",
        "colab_type": "code",
        "colab": {}
      },
      "source": [
        ""
      ],
      "execution_count": 0,
      "outputs": []
    }
  ]
}